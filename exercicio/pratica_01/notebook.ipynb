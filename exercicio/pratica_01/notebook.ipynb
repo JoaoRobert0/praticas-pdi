{
 "cells": [
  {
   "cell_type": "markdown",
   "metadata": {},
   "source": [
    "![](imagens/objetivo_a.png)"
   ]
  },
  {
   "cell_type": "code",
   "execution_count": 4,
   "metadata": {},
   "outputs": [
    {
     "data": {
      "image/png": "[encoded data removed]",
      "text/plain": [
       "<Figure size 640x480 with 1 Axes>"
      ]
     },
     "metadata": {},
     "output_type": "display_data"
    }
   ],
   "source": [
    "import cv2 as cv\n",
    "import matplotlib.pyplot as plt\n",
    "\n",
    "# Carregar a imagem\n",
    "img = cv.imread('circulo.png')\n",
    "\n",
    "# Verificar se a imagem foi carregada corretamente\n",
    "if img is None:\n",
    "    print(\"Erro ao carregar a imagem!\")\n",
    "else:\n",
    "    # Converter a imagem de BGR para RGB\n",
    "    img_rgb = cv.cvtColor(img, cv.COLOR_BGR2RGB)\n",
    "\n",
    "    # Exibir a imagem usando matplotlib\n",
    "    plt.imshow(img_rgb)\n",
    "    plt.axis('off')  # Para não exibir os eixos\n",
    "    plt.show()"
   ]
  }
 ],
 "metadata": {
  "kernelspec": {
   "display_name": "venv",
   "language": "python",
   "name": "python3"
  },
  "language_info": {
   "codemirror_mode": {
    "name": "ipython",
    "version": 3
   },
   "file_extension": ".py",
   "mimetype": "text/x-python",
   "name": "python",
   "nbconvert_exporter": "python",
   "pygments_lexer": "ipython3",
   "version": "3.12.3"
  }
 },
 "nbformat": 4,
 "nbformat_minor": 2
}
